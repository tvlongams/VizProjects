{
 "cells": [
  {
   "cell_type": "markdown",
   "metadata": {},
   "source": [
    "# Datasets"
   ]
  },
  {
   "cell_type": "code",
   "execution_count": 14,
   "metadata": {},
   "outputs": [],
   "source": [
    "import numpy as np\n",
    "import pandas as pd"
   ]
  },
  {
   "cell_type": "code",
   "execution_count": 23,
   "metadata": {},
   "outputs": [],
   "source": [
    "import psycopg2 as pg\n",
    "import pandas.io.sql as psql\n",
    "import pandas as pd\n",
    "connection = pg.connect(user=\"mp_quantri\",\n",
    "                                  password=\"asdaw@23423das\",\n",
    "                                  host=\"101.96.116.82\",\n",
    "                                  port=\"8182\",\n",
    "                                  database=\"tintuc_haisan\")"
   ]
  },
  {
   "cell_type": "code",
   "execution_count": 8,
   "metadata": {},
   "outputs": [],
   "source": [
    "def load_data(file,c=connection):\n",
    "    filename='select * from public.'+file\n",
    "    data = pd.read_sql_query(filename, c)\n",
    "    #data = pd.read_sql_query('select * from public.bang_tong_hop', connection)\n",
    "    return data"
   ]
  },
  {
   "cell_type": "code",
   "execution_count": 19,
   "metadata": {},
   "outputs": [],
   "source": [
    "#1. hungpq_mp_cost_price # cp\n",
    "#2. hungpq_mp_material_price # mp\n",
    "#3. hungpq_mp_material_quantity_order # mqo\n",
    "#4. hungpq_mp_material_quantity_purchase # mqp\n",
    "#5. hungpq_mp_product_price # pp\n",
    "#6. hungpq_mp_product_price_ring # ppr\n",
    "\n",
    "# Save datasets\n",
    "#for file in files:\n",
    "#    df=load_data(file,c=connection)\n",
    "#    df.to_csv(file+'.csv',index=False)\n",
    "    \n",
    "files=[\n",
    "'hungpq_mp_cost_price',\n",
    "'hungpq_mp_material_price',\n",
    "'hungpq_mp_material_quantity_order',\n",
    "'hungpq_mp_material_quantity_purchase',\n",
    "'hungpq_mp_product_price',\n",
    "'hungpq_mp_product_price_ring']"
   ]
  },
  {
   "cell_type": "code",
   "execution_count": 24,
   "metadata": {},
   "outputs": [],
   "source": [
    "datasets={}\n",
    "for file in files:\n",
    "    df=load_data(file,c=connection)\n",
    "    datasets[file]=df"
   ]
  },
  {
   "cell_type": "code",
   "execution_count": 38,
   "metadata": {},
   "outputs": [
    {
     "data": {
      "text/html": [
       "<div>\n",
       "<style scoped>\n",
       "    .dataframe tbody tr th:only-of-type {\n",
       "        vertical-align: middle;\n",
       "    }\n",
       "\n",
       "    .dataframe tbody tr th {\n",
       "        vertical-align: top;\n",
       "    }\n",
       "\n",
       "    .dataframe thead th {\n",
       "        text-align: right;\n",
       "    }\n",
       "</style>\n",
       "<table border=\"1\" class=\"dataframe\">\n",
       "  <thead>\n",
       "    <tr style=\"text-align: right;\">\n",
       "      <th></th>\n",
       "      <th>standard_type</th>\n",
       "      <th>standard_size</th>\n",
       "      <th>cts_specification</th>\n",
       "      <th>ring_oz_specification</th>\n",
       "      <th>chemical</th>\n",
       "      <th>cooking</th>\n",
       "      <th>incoterms</th>\n",
       "      <th>packing</th>\n",
       "      <th>price</th>\n",
       "      <th>unit</th>\n",
       "      <th>active_date</th>\n",
       "      <th>week</th>\n",
       "      <th>month</th>\n",
       "      <th>quarter</th>\n",
       "      <th>year</th>\n",
       "      <th>month_number</th>\n",
       "      <th>quarter_number</th>\n",
       "    </tr>\n",
       "  </thead>\n",
       "  <tbody>\n",
       "    <tr>\n",
       "      <th>0</th>\n",
       "      <td>Sú</td>\n",
       "      <td>13/15</td>\n",
       "      <td>8X16</td>\n",
       "      <td>12+4</td>\n",
       "      <td>Treated</td>\n",
       "      <td>Cooked</td>\n",
       "      <td>FOB Toronto</td>\n",
       "      <td>Ring</td>\n",
       "      <td>13.79</td>\n",
       "      <td>USD/Ring</td>\n",
       "      <td>2019-09-23</td>\n",
       "      <td>2019/9/38</td>\n",
       "      <td>2019/9</td>\n",
       "      <td>2019/3</td>\n",
       "      <td>2019</td>\n",
       "      <td>9</td>\n",
       "      <td>3</td>\n",
       "    </tr>\n",
       "    <tr>\n",
       "      <th>1</th>\n",
       "      <td>Sú</td>\n",
       "      <td>13/15</td>\n",
       "      <td>8X16</td>\n",
       "      <td>12+4</td>\n",
       "      <td>Treated</td>\n",
       "      <td>Cooked</td>\n",
       "      <td>FOB Vancouver</td>\n",
       "      <td>Ring</td>\n",
       "      <td>13.63</td>\n",
       "      <td>USD/Ring</td>\n",
       "      <td>2019-09-23</td>\n",
       "      <td>2019/9/38</td>\n",
       "      <td>2019/9</td>\n",
       "      <td>2019/3</td>\n",
       "      <td>2019</td>\n",
       "      <td>9</td>\n",
       "      <td>3</td>\n",
       "    </tr>\n",
       "    <tr>\n",
       "      <th>2</th>\n",
       "      <td>Thẻ chân trắng</td>\n",
       "      <td>13/15</td>\n",
       "      <td>8X16</td>\n",
       "      <td>12+4</td>\n",
       "      <td>Treated</td>\n",
       "      <td>Cooked</td>\n",
       "      <td>DDP Atlanta</td>\n",
       "      <td>Ring</td>\n",
       "      <td>11.08</td>\n",
       "      <td>USD/Ring</td>\n",
       "      <td>2019-09-23</td>\n",
       "      <td>2019/9/38</td>\n",
       "      <td>2019/9</td>\n",
       "      <td>2019/3</td>\n",
       "      <td>2019</td>\n",
       "      <td>9</td>\n",
       "      <td>3</td>\n",
       "    </tr>\n",
       "    <tr>\n",
       "      <th>3</th>\n",
       "      <td>Thẻ chân trắng</td>\n",
       "      <td>13/15</td>\n",
       "      <td>8X16</td>\n",
       "      <td>12+4</td>\n",
       "      <td>Treated</td>\n",
       "      <td>Cooked</td>\n",
       "      <td>DDP LA</td>\n",
       "      <td>Ring</td>\n",
       "      <td>10.88</td>\n",
       "      <td>USD/Ring</td>\n",
       "      <td>2019-09-23</td>\n",
       "      <td>2019/9/38</td>\n",
       "      <td>2019/9</td>\n",
       "      <td>2019/3</td>\n",
       "      <td>2019</td>\n",
       "      <td>9</td>\n",
       "      <td>3</td>\n",
       "    </tr>\n",
       "    <tr>\n",
       "      <th>4</th>\n",
       "      <td>Thẻ chân trắng</td>\n",
       "      <td>13/15</td>\n",
       "      <td>8X16</td>\n",
       "      <td>12+4</td>\n",
       "      <td>Treated</td>\n",
       "      <td>Cooked</td>\n",
       "      <td>DDP New York</td>\n",
       "      <td>Ring</td>\n",
       "      <td>10.93</td>\n",
       "      <td>USD/Ring</td>\n",
       "      <td>2019-09-23</td>\n",
       "      <td>2019/9/38</td>\n",
       "      <td>2019/9</td>\n",
       "      <td>2019/3</td>\n",
       "      <td>2019</td>\n",
       "      <td>9</td>\n",
       "      <td>3</td>\n",
       "    </tr>\n",
       "  </tbody>\n",
       "</table>\n",
       "</div>"
      ],
      "text/plain": [
       "    standard_type standard_size cts_specification ring_oz_specification  \\\n",
       "0              Sú         13/15              8X16                  12+4   \n",
       "1              Sú         13/15              8X16                  12+4   \n",
       "2  Thẻ chân trắng         13/15              8X16                  12+4   \n",
       "3  Thẻ chân trắng         13/15              8X16                  12+4   \n",
       "4  Thẻ chân trắng         13/15              8X16                  12+4   \n",
       "\n",
       "  chemical cooking      incoterms packing  price      unit active_date  \\\n",
       "0  Treated  Cooked    FOB Toronto    Ring  13.79  USD/Ring  2019-09-23   \n",
       "1  Treated  Cooked  FOB Vancouver    Ring  13.63  USD/Ring  2019-09-23   \n",
       "2  Treated  Cooked    DDP Atlanta    Ring  11.08  USD/Ring  2019-09-23   \n",
       "3  Treated  Cooked         DDP LA    Ring  10.88  USD/Ring  2019-09-23   \n",
       "4  Treated  Cooked   DDP New York    Ring  10.93  USD/Ring  2019-09-23   \n",
       "\n",
       "        week   month quarter  year  month_number  quarter_number  \n",
       "0  2019/9/38  2019/9  2019/3  2019             9               3  \n",
       "1  2019/9/38  2019/9  2019/3  2019             9               3  \n",
       "2  2019/9/38  2019/9  2019/3  2019             9               3  \n",
       "3  2019/9/38  2019/9  2019/3  2019             9               3  \n",
       "4  2019/9/38  2019/9  2019/3  2019             9               3  "
      ]
     },
     "execution_count": 38,
     "metadata": {},
     "output_type": "execute_result"
    }
   ],
   "source": [
    "#df=datasets['hungpq_mp_cost_price']\n",
    "#df=datasets['hungpq_mp_material_price']\n",
    "#df=datasets['hungpq_mp_material_quantity_order']\n",
    "#df=datasets['hungpq_mp_material_quantity_purchase']\n",
    "#df=datasets['hungpq_mp_product_price']\n",
    "df=datasets['hungpq_mp_product_price_ring']\n",
    "df.head()"
   ]
  },
  {
   "cell_type": "code",
   "execution_count": 32,
   "metadata": {},
   "outputs": [
    {
     "data": {
      "text/html": [
       "<div>\n",
       "<style scoped>\n",
       "    .dataframe tbody tr th:only-of-type {\n",
       "        vertical-align: middle;\n",
       "    }\n",
       "\n",
       "    .dataframe tbody tr th {\n",
       "        vertical-align: top;\n",
       "    }\n",
       "\n",
       "    .dataframe thead th {\n",
       "        text-align: right;\n",
       "    }\n",
       "</style>\n",
       "<table border=\"1\" class=\"dataframe\">\n",
       "  <thead>\n",
       "    <tr style=\"text-align: right;\">\n",
       "      <th></th>\n",
       "      <th>standard_type</th>\n",
       "      <th>standard_size</th>\n",
       "      <th>price</th>\n",
       "      <th>unit</th>\n",
       "      <th>factory</th>\n",
       "      <th>active_date</th>\n",
       "      <th>week</th>\n",
       "      <th>month</th>\n",
       "      <th>quarter</th>\n",
       "      <th>year</th>\n",
       "      <th>month_number</th>\n",
       "      <th>quarter_number</th>\n",
       "    </tr>\n",
       "  </thead>\n",
       "  <tbody>\n",
       "    <tr>\n",
       "      <th>0</th>\n",
       "      <td>Sú vỏ sinh thái</td>\n",
       "      <td>2/4</td>\n",
       "      <td>715.0</td>\n",
       "      <td>nghìn VND/kg</td>\n",
       "      <td>Hậu Giang</td>\n",
       "      <td>2020-01-09</td>\n",
       "      <td>2020/1/01</td>\n",
       "      <td>2020/1</td>\n",
       "      <td>2020/1</td>\n",
       "      <td>2020</td>\n",
       "      <td>1</td>\n",
       "      <td>1</td>\n",
       "    </tr>\n",
       "    <tr>\n",
       "      <th>1</th>\n",
       "      <td>Sú vỏ sinh thái sạch</td>\n",
       "      <td>2/4</td>\n",
       "      <td>749.0</td>\n",
       "      <td>nghìn VND/kg</td>\n",
       "      <td>Hậu Giang</td>\n",
       "      <td>2020-01-09</td>\n",
       "      <td>2020/1/01</td>\n",
       "      <td>2020/1</td>\n",
       "      <td>2020/1</td>\n",
       "      <td>2020</td>\n",
       "      <td>1</td>\n",
       "      <td>1</td>\n",
       "    </tr>\n",
       "    <tr>\n",
       "      <th>2</th>\n",
       "      <td>Sú vỏ sinh thái siêu sạch</td>\n",
       "      <td>2/4</td>\n",
       "      <td>751.0</td>\n",
       "      <td>nghìn VND/kg</td>\n",
       "      <td>Hậu Giang</td>\n",
       "      <td>2020-01-09</td>\n",
       "      <td>2020/1/01</td>\n",
       "      <td>2020/1</td>\n",
       "      <td>2020/1</td>\n",
       "      <td>2020</td>\n",
       "      <td>1</td>\n",
       "      <td>1</td>\n",
       "    </tr>\n",
       "    <tr>\n",
       "      <th>3</th>\n",
       "      <td>Sú vỏ sinh thái siêu sạch VIP</td>\n",
       "      <td>2/4</td>\n",
       "      <td>753.0</td>\n",
       "      <td>nghìn VND/kg</td>\n",
       "      <td>Hậu Giang</td>\n",
       "      <td>2020-01-09</td>\n",
       "      <td>2020/1/01</td>\n",
       "      <td>2020/1</td>\n",
       "      <td>2020/1</td>\n",
       "      <td>2020</td>\n",
       "      <td>1</td>\n",
       "      <td>1</td>\n",
       "    </tr>\n",
       "    <tr>\n",
       "      <th>4</th>\n",
       "      <td>Sú vỏ biển</td>\n",
       "      <td>2/4</td>\n",
       "      <td>707.0</td>\n",
       "      <td>nghìn VND/kg</td>\n",
       "      <td>Hậu Giang</td>\n",
       "      <td>2020-01-09</td>\n",
       "      <td>2020/1/01</td>\n",
       "      <td>2020/1</td>\n",
       "      <td>2020/1</td>\n",
       "      <td>2020</td>\n",
       "      <td>1</td>\n",
       "      <td>1</td>\n",
       "    </tr>\n",
       "  </tbody>\n",
       "</table>\n",
       "</div>"
      ],
      "text/plain": [
       "                   standard_type standard_size  price          unit  \\\n",
       "0                Sú vỏ sinh thái           2/4  715.0  nghìn VND/kg   \n",
       "1           Sú vỏ sinh thái sạch           2/4  749.0  nghìn VND/kg   \n",
       "2      Sú vỏ sinh thái siêu sạch           2/4  751.0  nghìn VND/kg   \n",
       "3  Sú vỏ sinh thái siêu sạch VIP           2/4  753.0  nghìn VND/kg   \n",
       "4                     Sú vỏ biển           2/4  707.0  nghìn VND/kg   \n",
       "\n",
       "     factory active_date       week   month quarter  year  month_number  \\\n",
       "0  Hậu Giang  2020-01-09  2020/1/01  2020/1  2020/1  2020             1   \n",
       "1  Hậu Giang  2020-01-09  2020/1/01  2020/1  2020/1  2020             1   \n",
       "2  Hậu Giang  2020-01-09  2020/1/01  2020/1  2020/1  2020             1   \n",
       "3  Hậu Giang  2020-01-09  2020/1/01  2020/1  2020/1  2020             1   \n",
       "4  Hậu Giang  2020-01-09  2020/1/01  2020/1  2020/1  2020             1   \n",
       "\n",
       "   quarter_number  \n",
       "0               1  \n",
       "1               1  \n",
       "2               1  \n",
       "3               1  \n",
       "4               1  "
      ]
     },
     "execution_count": 32,
     "metadata": {},
     "output_type": "execute_result"
    }
   ],
   "source": [
    "df.head()"
   ]
  },
  {
   "cell_type": "code",
   "execution_count": 27,
   "metadata": {},
   "outputs": [
    {
     "data": {
      "text/plain": [
       "Index(['standard_type', 'standard_size', 'chemical', 'processing', 'cooking',\n",
       "       'incoterms', 'price', 'unit', 'factory', 'active_date', 'week', 'month',\n",
       "       'quarter', 'year', 'month_number', 'quarter_number'],\n",
       "      dtype='object')"
      ]
     },
     "execution_count": 27,
     "metadata": {},
     "output_type": "execute_result"
    }
   ],
   "source": [
    "df.columns"
   ]
  },
  {
   "cell_type": "code",
   "execution_count": 28,
   "metadata": {},
   "outputs": [
    {
     "data": {
      "text/plain": [
       "array(['Sú sinh thái', 'Thẻ chân trắng giám sát sạch Mỹ'], dtype=object)"
      ]
     },
     "execution_count": 28,
     "metadata": {},
     "output_type": "execute_result"
    }
   ],
   "source": [
    "df['standard_type'].unique()"
   ]
  },
  {
   "cell_type": "code",
   "execution_count": 29,
   "metadata": {},
   "outputs": [
    {
     "data": {
      "text/plain": [
       "array(['2/4', '4/6', '6/8', '8/12', '13/15', '16/20', '21/25', '26/30',\n",
       "       '31/40', '41/50', '51/60', '61/70', '71/90', '91/120'],\n",
       "      dtype=object)"
      ]
     },
     "execution_count": 29,
     "metadata": {},
     "output_type": "execute_result"
    }
   ],
   "source": [
    "df['standard_size'].unique()"
   ]
  },
  {
   "cell_type": "code",
   "execution_count": 30,
   "metadata": {},
   "outputs": [
    {
     "data": {
      "text/plain": [
       "array(['USD/kg'], dtype=object)"
      ]
     },
     "execution_count": 30,
     "metadata": {},
     "output_type": "execute_result"
    }
   ],
   "source": [
    "df['unit'].unique()"
   ]
  },
  {
   "cell_type": "code",
   "execution_count": null,
   "metadata": {},
   "outputs": [],
   "source": []
  },
  {
   "cell_type": "code",
   "execution_count": null,
   "metadata": {},
   "outputs": [],
   "source": []
  },
  {
   "cell_type": "code",
   "execution_count": null,
   "metadata": {},
   "outputs": [],
   "source": []
  },
  {
   "cell_type": "code",
   "execution_count": null,
   "metadata": {},
   "outputs": [],
   "source": []
  },
  {
   "cell_type": "code",
   "execution_count": null,
   "metadata": {},
   "outputs": [],
   "source": []
  },
  {
   "cell_type": "code",
   "execution_count": null,
   "metadata": {},
   "outputs": [],
   "source": []
  },
  {
   "cell_type": "code",
   "execution_count": null,
   "metadata": {},
   "outputs": [],
   "source": []
  },
  {
   "cell_type": "code",
   "execution_count": null,
   "metadata": {},
   "outputs": [],
   "source": []
  },
  {
   "cell_type": "code",
   "execution_count": null,
   "metadata": {},
   "outputs": [],
   "source": []
  },
  {
   "cell_type": "code",
   "execution_count": null,
   "metadata": {},
   "outputs": [],
   "source": []
  },
  {
   "cell_type": "code",
   "execution_count": null,
   "metadata": {},
   "outputs": [],
   "source": []
  },
  {
   "cell_type": "code",
   "execution_count": null,
   "metadata": {},
   "outputs": [],
   "source": []
  },
  {
   "cell_type": "code",
   "execution_count": null,
   "metadata": {},
   "outputs": [],
   "source": []
  },
  {
   "cell_type": "code",
   "execution_count": null,
   "metadata": {},
   "outputs": [],
   "source": []
  },
  {
   "cell_type": "code",
   "execution_count": null,
   "metadata": {},
   "outputs": [],
   "source": []
  },
  {
   "cell_type": "code",
   "execution_count": null,
   "metadata": {},
   "outputs": [],
   "source": []
  },
  {
   "cell_type": "code",
   "execution_count": null,
   "metadata": {},
   "outputs": [],
   "source": []
  },
  {
   "cell_type": "code",
   "execution_count": null,
   "metadata": {},
   "outputs": [],
   "source": []
  }
 ],
 "metadata": {
  "kernelspec": {
   "display_name": "Python 3",
   "language": "python",
   "name": "python3"
  },
  "language_info": {
   "codemirror_mode": {
    "name": "ipython",
    "version": 3
   },
   "file_extension": ".py",
   "mimetype": "text/x-python",
   "name": "python",
   "nbconvert_exporter": "python",
   "pygments_lexer": "ipython3",
   "version": "3.7.4"
  }
 },
 "nbformat": 4,
 "nbformat_minor": 4
}
